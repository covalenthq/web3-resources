{
  "cells": [
    {
      "cell_type": "markdown",
      "metadata": {
        "id": "Yz6K3L3lD4FQ"
      },
      "source": [
        "# Introduction to Accessing Blockchain Data\n",
        "A Code Along to understand and access basic blockchain data. We will use a public hosted blockchain node to access network, account, block and transaction details. \n",
        "\n",
        "**Author: Harish Raisinghani, DevRel @ Covalent**. https://twitter.com/harish_yvr\n",
        "\n",
        "## Web3.py Setup\n",
        "\n",
        "We will be using [Web3.py](https://web3py.readthedocs.io/en/stable/quickstart.html), a comprehensive Python library for interacting with the programmable [Ethereum](https://ethereum.org/) blockchain, in this Code Along. \n",
        "\n",
        "We install the library using `pip`:"
      ]
    },
    {
      "cell_type": "code",
      "execution_count": null,
      "metadata": {
        "id": "SiyuxA0qDvPX"
      },
      "outputs": [],
      "source": [
        "pip install web3"
      ]
    },
    {
      "cell_type": "markdown",
      "metadata": {
        "id": "2MTGEpwSFW6c"
      },
      "source": [
        "## Connect to a Hosted Node Provider\n",
        "\n",
        "In order to read data from blockchains, you can either:\n",
        "\n",
        "1. Run your own node on that blockchain, download the entire ledger, execute the transactions and fetch the data from your node. \n",
        "\n",
        "2. Use a hosted node provider who manage the infrastructure for you\n",
        "\n",
        "> Deeper dive: Set up your own Ethereum node following [this guide.](https://ethereum.org/en/developers/docs/nodes-and-clients/run-a-node/)\n",
        "\n",
        "Examples of hosted Ethereum node providers are listed here: https://ethereumnodes.com/ . This is just a small set but does cover many of the major providers. \n",
        "\n",
        "In this Code Along, we will use the [Pocket Network](https://pokt.network/\n",
        " ) hosted node provider which offers a comprehensive [list of public nodes](https://docs.pokt.network/use/public-rpc/). Note the URL for accessing the Ethereum Mainnet node: https://eth-rpc.gateway.pokt.network\n",
        "\n",
        " The following code configures our `web3.py` library to use the Pocket Network as our node provider:"
      ]
    },
    {
      "cell_type": "code",
      "execution_count": 2,
      "metadata": {
        "colab": {
          "base_uri": "https://localhost:8080/"
        },
        "id": "7ab0z9ayE7Yw",
        "outputId": "25055bf9-0113-4bdc-eb7d-cbe53508d4cb"
      },
      "outputs": [
        {
          "data": {
            "text/plain": [
              "True"
            ]
          },
          "execution_count": 2,
          "metadata": {},
          "output_type": "execute_result"
        }
      ],
      "source": [
        "from web3 import Web3\n",
        "\n",
        "eth_mainnet_provider = 'https://eth-rpc.gateway.pokt.network'\n",
        "\n",
        "w3_mainnet = Web3(Web3.HTTPProvider(eth_mainnet_provider))\n",
        "\n",
        "# Check that it is connected\n",
        "w3_mainnet.isConnected()"
      ]
    },
    {
      "cell_type": "markdown",
      "metadata": {
        "id": "lYAmDjGhFgZK"
      },
      "source": [
        "\n",
        "## JSON-RPC\n",
        "Assuming that you are familiar with the `JSON` data format, `JSON-RPC` is a remote procedure call (RPC) protocol which follows a [specification](https://www.jsonrpc.org/specification) defining standards around data structures and processing in distributed computing.\n",
        "\n",
        "The Ethereum protocol implements the [**Ethereum JSON-RPC**]((https://ethereum.github.io/execution-apis/api-documentation/) specification - a standard collection of methods that all Ethereum clients implement so that applications can expect some consistency regardless of the node or client implementation.  \n",
        "\n",
        "Examples of Ethereum JSON-RPC methods include:\n",
        "\n",
        "* `eth_chainId`: Returns the unique chain ID of the current blockchain network\n",
        "* `eth_gasPrice`: Returns the current price per gas in wei\n",
        "* `eth_blockNumber`: Returns the sequence number of the most recent block\n",
        "* `eth_getBalance`: Returns the balance of the account of a given address\n",
        "\n",
        "For the full list of Ethereum JSON-RPC methods, see: https://ethereum.github.io/execution-apis/api-documentation/.\n",
        "\n",
        "\n",
        "## JSON-RPC & `web3.eth`\n",
        "\n",
        "The Web3.py library uses the `web3.eth` API object for interacting with the Ethereum blockchain and thus provides a mapping to Ethereum JSON-RPC methods. The `web3.eth` object exposes both *properties* and *methods* to interact with the JSON-RPC APIs under the `eth_` namespace.\n",
        "\n",
        "For example the following shows JSON-RPC methods mapped to to `web3.eth` properties and methods:\n",
        "\n",
        "### Properties:\n",
        "*   `eth_chainId` -> `web3.eth.chain_id`\n",
        "*   `eth_gasPrice` -> `web3.eth.gas_price`\n",
        "\n",
        "### Methods:\n",
        "*   `eth_blockNumber` -> `web3.eth.get_block_number()`\n",
        "*   `eth_getBalance` -> `web3.eth.get_balance(<address>)`\n",
        "\n",
        "\n",
        "See the full list of in `web3.eth` mappings [here](https://web3py.readthedocs.io/en/stable/web3.eth.html#methods).\n",
        "\n",
        "Let us try a few examples:"
      ]
    },
    {
      "cell_type": "code",
      "execution_count": null,
      "metadata": {
        "colab": {
          "base_uri": "https://localhost:8080/"
        },
        "id": "4P_crFpFJMwZ",
        "outputId": "0f5c48a6-7e2d-4422-df9f-55e109acd04a"
      },
      "outputs": [
        {
          "data": {
            "text/plain": [
              "1"
            ]
          },
          "execution_count": 32,
          "metadata": {},
          "output_type": "execute_result"
        }
      ],
      "source": [
        "w3_mainnet.eth.chain_id"
      ]
    },
    {
      "cell_type": "markdown",
      "metadata": {
        "id": "-gc-3YK-YRQY"
      },
      "source": [
        "Chain IDs are unique blockchain identifiers for Ethereum-compatible blockchain networks. For example, Ethereum Mainnet has a chain ID of 1 while Polygon Mainnet has a chain ID of 137. \n",
        "\n",
        "You can find the full list of Ethereum-compatible blockchain's chain IDs (including both mainnets and testnets) at: https://chainlist.org/"
      ]
    },
    {
      "cell_type": "code",
      "execution_count": null,
      "metadata": {
        "colab": {
          "base_uri": "https://localhost:8080/"
        },
        "id": "juxHu8DmFpWz",
        "outputId": "b69e4dff-538c-43d0-c395-32f1b6fb32af"
      },
      "outputs": [
        {
          "data": {
            "text/plain": [
              "19909730434"
            ]
          },
          "execution_count": 33,
          "metadata": {},
          "output_type": "execute_result"
        }
      ],
      "source": [
        "w3_mainnet.eth.gas_price"
      ]
    },
    {
      "cell_type": "code",
      "execution_count": null,
      "metadata": {
        "colab": {
          "base_uri": "https://localhost:8080/"
        },
        "id": "i0waXX-6Flr9",
        "outputId": "26d6d427-a8af-410c-f94a-74a1ba4ff09c"
      },
      "outputs": [
        {
          "data": {
            "text/plain": [
              "15454222"
            ]
          },
          "execution_count": 29,
          "metadata": {},
          "output_type": "execute_result"
        }
      ],
      "source": [
        "w3_mainnet.eth.get_block_number()"
      ]
    },
    {
      "cell_type": "code",
      "execution_count": null,
      "metadata": {
        "colab": {
          "base_uri": "https://localhost:8080/"
        },
        "id": "m76VMcNAF0cn",
        "outputId": "4e58fe8d-7bac-4e1b-ad45-17550f4234f7"
      },
      "outputs": [
        {
          "name": "stderr",
          "output_type": "stream",
          "text": [
            "/usr/local/lib/python3.7/dist-packages/ens/main.py:290: FutureWarning: The function signature for resolver() will change in v6 to accept `name` as a the positional argument, over `normal_name`, and the method will instead normalize the name internally. You may migrate to using `name` by passing it in as a keyword, e.g. resolver(name=\"ensname.eth\").\n",
            "  category=FutureWarning,\n"
          ]
        },
        {
          "name": "stdout",
          "output_type": "stream",
          "text": [
            "645623828425439786\n"
          ]
        }
      ],
      "source": [
        "balance_wei = w3_mainnet.eth.get_balance('demo.eth')\n",
        "print(balance_wei)"
      ]
    },
    {
      "cell_type": "markdown",
      "metadata": {
        "id": "4jlI9MA6HGOm"
      },
      "source": [
        "A couple of key things to note:\n",
        "\n",
        "1. Ethereum blockchain values, such as the gas price or account balance are commonly denominated in unit called `wei`, which is the smallest unit of ether (ETH) equal to `10^-18`. You can find the full `wei` to `ether` table at: https://gwei.io/. \n",
        "\n",
        "2. The `eth.get_balance()` takes either an alphanumeric account address OR an [Ethereum Name Service](https://ens.domains/) domain (which gets resolved to the underlying account address). \n",
        "\n",
        "> Deeper dive - search and set your own ENS domain (fee required): https://app.ens.domains/\n",
        "\n",
        "So to convert our balance from `wei` to `ether` we can divide `balance_wei` by `10^18`)"
      ]
    },
    {
      "cell_type": "code",
      "execution_count": null,
      "metadata": {
        "colab": {
          "base_uri": "https://localhost:8080/"
        },
        "id": "yFemjo-5HFyv",
        "outputId": "74877925-e23d-4d67-b5ae-15e16d6dd342"
      },
      "outputs": [
        {
          "name": "stdout",
          "output_type": "stream",
          "text": [
            "0.6456238284254397\n"
          ]
        }
      ],
      "source": [
        "balance = balance_wei / (10**18)\n",
        "print(balance)"
      ]
    },
    {
      "cell_type": "markdown",
      "metadata": {
        "id": "-MzaE_xutLV8"
      },
      "source": [
        "OR we can use the built in `.fromWei()` method and specify the `ether` unit:"
      ]
    },
    {
      "cell_type": "code",
      "execution_count": null,
      "metadata": {
        "colab": {
          "base_uri": "https://localhost:8080/"
        },
        "id": "rhU-LYZLHNEd",
        "outputId": "2d5c1124-cbbe-4bcf-9ddf-6e86b14ebf9c"
      },
      "outputs": [
        {
          "name": "stdout",
          "output_type": "stream",
          "text": [
            "0.645623828425439786\n"
          ]
        }
      ],
      "source": [
        "balance = w3_mainnet.fromWei(balance_wei, 'ether')\n",
        "print(balance)"
      ]
    },
    {
      "cell_type": "markdown",
      "metadata": {
        "id": "kB5K9iBFuGrg"
      },
      "source": [
        "## Block Explorers\n",
        "\n",
        "![Etherscan](https://info.etherscan.com/content/images/2019/12/image-1.png)\n",
        "\n",
        "A front-end that allows users to explore blockchain data without having to manually make API calls with code are called **block explorers**. The most popular Ethereum block explorer is [Etherscan](https://etherscan.io/). There, we can compare the results to the `web3.eth` API calls made above. \n",
        "\n",
        "> Q) What are some other block explorers for Ethereum mainnet and testnets?"
      ]
    },
    {
      "cell_type": "markdown",
      "metadata": {
        "id": "j2Xfmv9RITfT"
      },
      "source": [
        "## Transactions & Transaction Hashes\n",
        "\n",
        "The state of the Ethereum blockchain changes as a result of **transactions** or data that is committed to the blockchain by an account. Think of blockchains like Ethereum as global [singleton](https://en.wikipedia.org/wiki/Singleton_pattern) state machines where transactions are the driver changing the machine's state. Smart contracts or programs on blockchains *do not run on their own*. Everything starts with a transaction.\n",
        "\n",
        "Transactions on the blockchain create transaction hashes. In this Code Along, we are simply accessing existing transaction data through transaction hashes, not creating new transactions (for a later Code Along).\n",
        "\n",
        "\n",
        "We can see all the key details of a transaction by using the [`eth_getTransactionByHash`](https://web3py.readthedocs.io/en/stable/web3.eth.html#web3.eth.Eth.get_transaction) JSON-RPC method. \n",
        "\n",
        "Let us take the following transaction hash: [0x7bebda592bfb8923b80f5498c58a8a5abf2c689feeafd8a6c46fc8626b249c56](https://etherscan.io/tx/0x7bebda592bfb8923b80f5498c58a8a5abf2c689feeafd8a6c46fc8626b249c56) which is an example of a basic ETH transfer/payment:"
      ]
    },
    {
      "cell_type": "code",
      "execution_count": null,
      "metadata": {
        "colab": {
          "base_uri": "https://localhost:8080/"
        },
        "id": "zJdV_DqCHyuf",
        "outputId": "f90456d7-17ea-42e3-b236-821df16efcd7"
      },
      "outputs": [
        {
          "data": {
            "text/plain": [
              "AttributeDict({'accessList': [],\n",
              " 'blockHash': HexBytes('0xe8ed5b0aaabc311e05b89c76ea236f91d8107529d7aa5d8084d151adac1a8566'),\n",
              " 'blockNumber': 15454264,\n",
              " 'chainId': '0x1',\n",
              " 'from': '0x347334073a11B74C0029C7B9Cf43a56dCB0d7c1C',\n",
              " 'gas': 21000,\n",
              " 'gasPrice': 22035434010,\n",
              " 'hash': HexBytes('0x7bebda592bfb8923b80f5498c58a8a5abf2c689feeafd8a6c46fc8626b249c56'),\n",
              " 'input': '0x',\n",
              " 'maxFeePerGas': 24709787665,\n",
              " 'maxPriorityFeePerGas': 1500000000,\n",
              " 'nonce': 19,\n",
              " 'r': HexBytes('0xfaf61893b260fb3522f328e53be69703ffa829cf2ca24954c84a5a7d365d4c9b'),\n",
              " 's': HexBytes('0x3ea579fcf16eefb9447c788f20751c9c2b3be5fb63b76fc95c4af00e88ef031c'),\n",
              " 'to': '0x31532aA0137b1c1E1b9164C3Fe11634F4218c5b7',\n",
              " 'transactionIndex': 174,\n",
              " 'type': '0x2',\n",
              " 'v': 1,\n",
              " 'value': 50000000000000000})"
            ]
          },
          "execution_count": 34,
          "metadata": {},
          "output_type": "execute_result"
        }
      ],
      "source": [
        "w3_mainnet.eth.get_transaction('0x7bebda592bfb8923b80f5498c58a8a5abf2c689feeafd8a6c46fc8626b249c56')"
      ]
    },
    {
      "cell_type": "markdown",
      "metadata": {
        "id": "LOjVIRw3L_WQ"
      },
      "source": [
        "We see the following key details:\n",
        "- `nonce`: a sequence number issued by the sending Ethereum account indicating the number of previous transactions to prevent message replay\n",
        "- `blockNumber`: the block where this transaction was placed in\n",
        "- `from`: the sending Ethereum account\n",
        "- `to`: the receiving Ethereum account\n",
        "- `value`: the amount of ETH transferred (in Wei)\n",
        "- `input`: any data sent with the transaction\n",
        "- `gas`: the amount of gas provided by the sending Ethereum account\n",
        "- `gasPrice`: the gas price in Wei per unit of gas provided by the sending Ethereum account\n",
        "\n",
        "We can also get the number of transactions for a particular block and then pass an index value to get a specific transaction within a block:"
      ]
    },
    {
      "cell_type": "code",
      "execution_count": null,
      "metadata": {
        "colab": {
          "base_uri": "https://localhost:8080/"
        },
        "id": "LkX9Hnm4Oiis",
        "outputId": "bf47f1fb-7939-4930-aedf-61e0e5c5d4be"
      },
      "outputs": [
        {
          "data": {
            "text/plain": [
              "205"
            ]
          },
          "execution_count": 37,
          "metadata": {},
          "output_type": "execute_result"
        }
      ],
      "source": [
        "w3_mainnet.eth.get_block_transaction_count(15454264)"
      ]
    },
    {
      "cell_type": "code",
      "execution_count": null,
      "metadata": {
        "colab": {
          "base_uri": "https://localhost:8080/"
        },
        "id": "13Oox00bL-90",
        "outputId": "031f0bd0-9943-47f5-afdc-81c34476b80b"
      },
      "outputs": [
        {
          "data": {
            "text/plain": [
              "AttributeDict({'accessList': [],\n",
              " 'blockHash': HexBytes('0xe8ed5b0aaabc311e05b89c76ea236f91d8107529d7aa5d8084d151adac1a8566'),\n",
              " 'blockNumber': 15454264,\n",
              " 'chainId': '0x1',\n",
              " 'from': '0xEA674fdDe714fd979de3EdF0F56AA9716B898ec8',\n",
              " 'gas': 250000,\n",
              " 'gasPrice': 21535434010,\n",
              " 'hash': HexBytes('0x88824a6cfaf3f02edb0d36efe46f918789dbc3ec26c2ef36b973e1a5ac9b0fa7'),\n",
              " 'input': '0x',\n",
              " 'maxFeePerGas': 32946580402,\n",
              " 'maxPriorityFeePerGas': 1000000000,\n",
              " 'nonce': 44876480,\n",
              " 'r': HexBytes('0x8794af6856ae07fbb843ab867431a4f7afce319300a056996288526499d0f538'),\n",
              " 's': HexBytes('0x482f0916443ac3d7da0f758f8d3abd8d21f7c9a7c3ad2d034639ab8f7d8250b3'),\n",
              " 'to': '0x587Ea10544Ad3B22f08232c1146cC61c54566c36',\n",
              " 'transactionIndex': 0,\n",
              " 'type': '0x2',\n",
              " 'v': 1,\n",
              " 'value': 82393545439714279})"
            ]
          },
          "execution_count": 41,
          "metadata": {},
          "output_type": "execute_result"
        }
      ],
      "source": [
        "w3_mainnet.eth.get_transaction_by_block(15454264,0)"
      ]
    },
    {
      "cell_type": "markdown",
      "metadata": {
        "id": "kfMXTVgnPUB5"
      },
      "source": [
        "## Summary\n",
        "So we have covered how to access basic blockchain data - blockchain details, account balances and individual and block transactions. \n",
        "\n",
        "In the next Code Along, we look at data generated by smart contracts and in particular, custom fungible tokens (alt coins such as stablecoins, utility coins, asset coins, etc..) which are referred to as ERC20 standard tokens referring to a particular standard smart contract interface these tokens all use."
      ]
    }
  ],
  "metadata": {
    "colab": {
      "collapsed_sections": [],
      "provenance": []
    },
    "kernelspec": {
      "display_name": "Python 3.8.2 64-bit",
      "language": "python",
      "name": "python3"
    },
    "language_info": {
      "name": "python",
      "version": "3.8.2"
    },
    "vscode": {
      "interpreter": {
        "hash": "31f2aee4e71d21fbe5cf8b01ff0e069b9275f58929596ceb00d14d90e3e16cd6"
      }
    }
  },
  "nbformat": 4,
  "nbformat_minor": 0
}
