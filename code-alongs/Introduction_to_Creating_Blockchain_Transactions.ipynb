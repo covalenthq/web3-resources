{
  "cells": [
    {
      "cell_type": "markdown",
      "metadata": {
        "id": "Pkri9n-LvgfW"
      },
      "source": [
        "# Introduction to Creating Blockchain Transactions\n",
        "A Code Along to understand how to create basic blockchain transactions. We will use a publicly hosted blockchain node to access the Ethereum network and create and broadcast a simple ETH transfer transaction. \n",
        "\n",
        "**Author: Harish Raisinghani, DevRel @ Covalent**. https://twitter.com/harish_yvr\n",
        "\n",
        "## Web3.py Setup\n",
        "\n",
        "We will be using [Web3.py](https://web3py.readthedocs.io/en/stable/quickstart.html), a comprehensive Python library for interacting with the programmable [Ethereum](https://ethereum.org/) blockchain, in this Code Along. \n",
        "\n",
        "We install the library using `pip`:"
      ]
    },
    {
      "cell_type": "code",
      "execution_count": 1,
      "metadata": {
        "id": "uPRU7dKYva9M"
      },
      "outputs": [
        {
          "name": "stdout",
          "output_type": "stream",
          "text": [
            "Defaulting to user installation because normal site-packages is not writeable\n",
            "Requirement already satisfied: web3 in /Users/harish/Library/Python/3.9/lib/python/site-packages (6.1.0)\n",
            "Requirement already satisfied: hexbytes>=0.1.0 in /Users/harish/Library/Python/3.9/lib/python/site-packages (from web3) (0.3.0)\n",
            "Requirement already satisfied: jsonschema>=4.0.0 in /Users/harish/Library/Python/3.9/lib/python/site-packages (from web3) (4.17.3)\n",
            "Requirement already satisfied: websockets>=10.0.0 in /Users/harish/Library/Python/3.9/lib/python/site-packages (from web3) (11.0.1)\n",
            "Requirement already satisfied: protobuf>=4.21.6 in /Users/harish/Library/Python/3.9/lib/python/site-packages (from web3) (4.22.1)\n",
            "Requirement already satisfied: eth-utils>=2.1.0 in /Users/harish/Library/Python/3.9/lib/python/site-packages (from web3) (2.1.0)\n",
            "Requirement already satisfied: eth-typing>=3.0.0 in /Users/harish/Library/Python/3.9/lib/python/site-packages (from web3) (3.3.0)\n",
            "Requirement already satisfied: aiohttp>=3.7.4.post0 in /Users/harish/Library/Python/3.9/lib/python/site-packages (from web3) (3.8.4)\n",
            "Requirement already satisfied: eth-account>=0.8.0 in /Users/harish/Library/Python/3.9/lib/python/site-packages (from web3) (0.8.0)\n",
            "Requirement already satisfied: lru-dict>=1.1.6 in /Users/harish/Library/Python/3.9/lib/python/site-packages (from web3) (1.1.8)\n",
            "Requirement already satisfied: requests>=2.16.0 in /Users/harish/Library/Python/3.9/lib/python/site-packages (from web3) (2.28.2)\n",
            "Requirement already satisfied: eth-hash[pycryptodome]>=0.5.1 in /Users/harish/Library/Python/3.9/lib/python/site-packages (from web3) (0.5.1)\n",
            "Requirement already satisfied: eth-abi>=4.0.0 in /Users/harish/Library/Python/3.9/lib/python/site-packages (from web3) (4.0.0)\n",
            "Requirement already satisfied: attrs>=17.3.0 in /Users/harish/Library/Python/3.9/lib/python/site-packages (from aiohttp>=3.7.4.post0->web3) (22.2.0)\n",
            "Requirement already satisfied: async-timeout<5.0,>=4.0.0a3 in /Users/harish/Library/Python/3.9/lib/python/site-packages (from aiohttp>=3.7.4.post0->web3) (4.0.2)\n",
            "Requirement already satisfied: frozenlist>=1.1.1 in /Users/harish/Library/Python/3.9/lib/python/site-packages (from aiohttp>=3.7.4.post0->web3) (1.3.3)\n",
            "Requirement already satisfied: charset-normalizer<4.0,>=2.0 in /Users/harish/Library/Python/3.9/lib/python/site-packages (from aiohttp>=3.7.4.post0->web3) (3.1.0)\n",
            "Requirement already satisfied: aiosignal>=1.1.2 in /Users/harish/Library/Python/3.9/lib/python/site-packages (from aiohttp>=3.7.4.post0->web3) (1.3.1)\n",
            "Requirement already satisfied: yarl<2.0,>=1.0 in /Users/harish/Library/Python/3.9/lib/python/site-packages (from aiohttp>=3.7.4.post0->web3) (1.8.2)\n",
            "Requirement already satisfied: multidict<7.0,>=4.5 in /Users/harish/Library/Python/3.9/lib/python/site-packages (from aiohttp>=3.7.4.post0->web3) (6.0.4)\n",
            "Requirement already satisfied: parsimonious<0.10.0,>=0.9.0 in /Users/harish/Library/Python/3.9/lib/python/site-packages (from eth-abi>=4.0.0->web3) (0.9.0)\n",
            "Requirement already satisfied: eth-keyfile<0.7.0,>=0.6.0 in /Users/harish/Library/Python/3.9/lib/python/site-packages (from eth-account>=0.8.0->web3) (0.6.1)\n",
            "Requirement already satisfied: eth-keys<0.5,>=0.4.0 in /Users/harish/Library/Python/3.9/lib/python/site-packages (from eth-account>=0.8.0->web3) (0.4.0)\n",
            "Requirement already satisfied: rlp<4,>=1.0.0 in /Users/harish/Library/Python/3.9/lib/python/site-packages (from eth-account>=0.8.0->web3) (3.0.0)\n",
            "Requirement already satisfied: eth-rlp<1,>=0.3.0 in /Users/harish/Library/Python/3.9/lib/python/site-packages (from eth-account>=0.8.0->web3) (0.3.0)\n",
            "Requirement already satisfied: bitarray<3,>=2.4.0 in /Users/harish/Library/Python/3.9/lib/python/site-packages (from eth-account>=0.8.0->web3) (2.7.3)\n",
            "Requirement already satisfied: pycryptodome<4,>=3.6.6 in /Users/harish/Library/Python/3.9/lib/python/site-packages (from eth-hash[pycryptodome]>=0.5.1->web3) (3.17)\n",
            "Requirement already satisfied: cytoolz>=0.10.1 in /Users/harish/Library/Python/3.9/lib/python/site-packages (from eth-utils>=2.1.0->web3) (0.12.1)\n",
            "Requirement already satisfied: toolz>=0.8.0 in /Users/harish/Library/Python/3.9/lib/python/site-packages (from cytoolz>=0.10.1->eth-utils>=2.1.0->web3) (0.12.0)\n",
            "Requirement already satisfied: pyrsistent!=0.17.0,!=0.17.1,!=0.17.2,>=0.14.0 in /Users/harish/Library/Python/3.9/lib/python/site-packages (from jsonschema>=4.0.0->web3) (0.19.3)\n",
            "Requirement already satisfied: regex>=2022.3.15 in /Users/harish/Library/Python/3.9/lib/python/site-packages (from parsimonious<0.10.0,>=0.9.0->eth-abi>=4.0.0->web3) (2023.3.23)\n",
            "Requirement already satisfied: certifi>=2017.4.17 in /Users/harish/Library/Python/3.9/lib/python/site-packages (from requests>=2.16.0->web3) (2022.12.7)\n",
            "Requirement already satisfied: idna<4,>=2.5 in /Users/harish/Library/Python/3.9/lib/python/site-packages (from requests>=2.16.0->web3) (3.4)\n",
            "Requirement already satisfied: urllib3<1.27,>=1.21.1 in /Users/harish/Library/Python/3.9/lib/python/site-packages (from requests>=2.16.0->web3) (1.26.15)\n",
            "\u001b[33mWARNING: You are using pip version 21.2.4; however, version 23.0.1 is available.\n",
            "You should consider upgrading via the '/Library/Developer/CommandLineTools/usr/bin/python3 -m pip install --upgrade pip' command.\u001b[0m\n",
            "Note: you may need to restart the kernel to use updated packages.\n"
          ]
        }
      ],
      "source": [
        "pip install web3"
      ]
    },
    {
      "attachments": {},
      "cell_type": "markdown",
      "metadata": {
        "id": "PmHf3zcJxHj5"
      },
      "source": [
        "## Connect to a Hosted Node Provider\n",
        "\n",
        "In order to write data to blockchains, you can either:\n",
        "\n",
        "1. Run your own node on that blockchain, download the entire ledger, execute the transactions and send data through your node. \n",
        "\n",
        "2. Use a hosted node provider who manage the infrastructure for you\n",
        "\n",
        "> Deeper dive: Set up your own Ethereum node following [this guide.](https://ethereum.org/en/developers/docs/nodes-and-clients/run-a-node/)\n",
        "\n",
        "Examples of hosted Ethereum node providers are listed here: https://ethereumnodes.com/ . This is just a small set but does cover many of the major providers.\n",
        "\n",
        "Writing to a blockchain requires paying gas fees in the native token of the blockchain (e.g. ETH). In this Code Along, we will use one of the Ethereum testnets: [Sepolia](https://ethereum.org/en/developers/docs/networks/#sepolia). To use a testnet, we can acquire the corresponding testnet tokens from a faucet for free. \n",
        "\n",
        "We will use one of the free[RPC public node](https://chainlist.org/chain/11155111) for Sepolia with the URL: https://rpc.sepolia.org\n",
        "\n",
        "The following code configures our `web3.py` library to use the Pocket Network as our node provider on the Ethereum Goerli testnet and confirms if the node is connected to the testnet:"
      ]
    },
    {
      "cell_type": "code",
      "execution_count": 2,
      "metadata": {
        "colab": {
          "base_uri": "https://localhost:8080/"
        },
        "id": "TaxLOxFQv2Tx",
        "outputId": "60b57b78-4057-456b-f8ad-ea7e0a5cb45d"
      },
      "outputs": [
        {
          "data": {
            "text/plain": [
              "<web3.main.Web3 at 0x1109b2d30>"
            ]
          },
          "execution_count": 2,
          "metadata": {},
          "output_type": "execute_result"
        }
      ],
      "source": [
        "from web3 import Web3\n",
        "\n",
        "eth_sepolia_provider = 'https://rpc.sepolia.org'\n",
        "\n",
        "w3_testnet = Web3(Web3.HTTPProvider(eth_sepolia_provider))\n",
        "\n",
        "# Check that a web3 object is created\n",
        "w3_testnet"
      ]
    },
    {
      "attachments": {},
      "cell_type": "markdown",
      "metadata": {
        "id": "DMtLRKLE1oBo"
      },
      "source": [
        "And let us check the blockchain's chain ID and current block number and confirm it with the Ethereum Sepolia block explorer: https://sepolia.etherscan.io"
      ]
    },
    {
      "cell_type": "code",
      "execution_count": 3,
      "metadata": {
        "colab": {
          "base_uri": "https://localhost:8080/"
        },
        "id": "AOPzNu7-yfXg",
        "outputId": "89d7cc40-b357-414f-f195-51b6850810e9"
      },
      "outputs": [
        {
          "data": {
            "text/plain": [
              "11155111"
            ]
          },
          "execution_count": 3,
          "metadata": {},
          "output_type": "execute_result"
        }
      ],
      "source": [
        "w3_testnet.eth.chain_id"
      ]
    },
    {
      "cell_type": "code",
      "execution_count": 4,
      "metadata": {
        "colab": {
          "base_uri": "https://localhost:8080/"
        },
        "id": "XzcisrqD1vre",
        "outputId": "ec495c00-e39e-4025-964c-d1c37f78f110"
      },
      "outputs": [
        {
          "data": {
            "text/plain": [
              "3273857"
            ]
          },
          "execution_count": 4,
          "metadata": {},
          "output_type": "execute_result"
        }
      ],
      "source": [
        "w3_testnet.eth.get_block_number()"
      ]
    },
    {
      "attachments": {},
      "cell_type": "markdown",
      "metadata": {
        "id": "mZYD8SJy2UwV"
      },
      "source": [
        "Now that we are connected to the Sepolia testnet, we need to do the following to get set up in order to write transactions to the blockchain:\n",
        "\n",
        "1. Have a wallet on the Sepolia testnet\n",
        "2. Have some test ETH tokens in our wallet on the Sepolia testnet\n",
        "\n",
        "## Wallet Setup\n",
        "\n",
        "We can repurpose the code from the previous Code Along to create our wallet.\n",
        "\n",
        "**NOTE: EVERYTHING WE DO HERE IS FOR DEMO PURPOSES SO PLEASE DO NOT USE ANY WALLETS CREATED HERE AS YOUR PRODUCTION WALLET!**"
      ]
    },
    {
      "cell_type": "code",
      "execution_count": 12,
      "metadata": {
        "id": "yNWpw0ML11m7"
      },
      "outputs": [],
      "source": [
        "import secrets\n",
        "from eth_account import Account\n",
        "\n",
        "# 1. Create our 32 bytes random number. Each byte converts to two hex digits\n",
        "priv = secrets.token_hex(32)\n",
        "\n",
        "# 2. Prefix the '0x' hexadecimal identifier\n",
        "private_key = \"0x\" + priv\n",
        "\n",
        "# 3. Generate an account object that includes the public key and other useful methods\n",
        "account = Account.from_key(private_key)\n",
        "\n",
        "# Extract the public key\n",
        "public_address = account.address"
      ]
    },
    {
      "cell_type": "code",
      "execution_count": 13,
      "metadata": {
        "colab": {
          "base_uri": "https://localhost:8080/"
        },
        "id": "Ue0crRn84ZOV",
        "outputId": "2497408a-e1f1-429c-c4f2-66fe92f70f1d"
      },
      "outputs": [
        {
          "name": "stdout",
          "output_type": "stream",
          "text": [
            "Wallet address is: 0xc19880076743294C17172B5E1F0536E71F91d37B\n"
          ]
        }
      ],
      "source": [
        "# Print the public key\n",
        "print(\"Wallet address is:\", public_address)"
      ]
    },
    {
      "attachments": {},
      "cell_type": "markdown",
      "metadata": {
        "id": "rhLGIdSi4Pyc"
      },
      "source": [
        "Next, use a faucet such as https://sepolia-faucet.pk910.de/ to 'drip' yourself some test ETH tokens on Sepolia. Note for this particular faucet, you need to enter your wallet address and let the faucet run for a few minutes to accumulate the minimum amount of test tokens (0.01 Sepolia ETH). \n",
        "\n",
        "Verify that you now indeed have some test tokens on Sepolia:"
      ]
    },
    {
      "cell_type": "code",
      "execution_count": 14,
      "metadata": {
        "colab": {
          "base_uri": "https://localhost:8080/"
        },
        "id": "DwnGI-Ij4GIG",
        "outputId": "0e501bb7-3363-40df-a444-93f5ce6cbf41"
      },
      "outputs": [
        {
          "data": {
            "text/plain": [
              "29493966000000000"
            ]
          },
          "execution_count": 14,
          "metadata": {},
          "output_type": "execute_result"
        }
      ],
      "source": [
        "w3_testnet.eth.get_balance(public_address)"
      ]
    },
    {
      "attachments": {},
      "cell_type": "markdown",
      "metadata": {
        "id": "OOXSFfSc6s43"
      },
      "source": [
        "Now we can create our first transaction!\n",
        "\n",
        "The process of creating a transaction involves the following steps:\n",
        "1. Create the transaction object\n",
        "2. Sign the transaction with your private key\n",
        "3. Send the transaction using the provided node\n",
        "\n",
        "## Create a Transaction\n",
        "\n",
        "The following is a very basic transaction object to send 0.001 Sepolia ETH to wallet `0xc43ee4634Aed3796971ccE43e64b696D4de4ca83`:\n",
        "\n"
      ]
    },
    {
      "cell_type": "code",
      "execution_count": 15,
      "metadata": {
        "id": "OwLElEhJ_OcZ"
      },
      "outputs": [],
      "source": [
        "txn_obj = {\n",
        "    'nonce': w3_testnet.eth.get_transaction_count(public_address),\n",
        "    'to': '0xc43ee4634Aed3796971ccE43e64b696D4de4ca83',\n",
        "    'from': public_address,\n",
        "    'value': w3_testnet.to_wei(0.001, 'ether'),\n",
        "    'data': b'',\n",
        "    'chainId': w3_testnet.eth.chain_id\n",
        "}"
      ]
    },
    {
      "cell_type": "markdown",
      "metadata": {
        "id": "TocaXD2OHZ7a"
      },
      "source": [
        "where we have used the following keys:\n",
        "\n",
        "- `nonce`: a sequence number issued by the sending Ethereum account indicating the number of previous transactions to prevent message replay\n",
        "- `from`: the sending Ethereum account\n",
        "- `to`: the receiving Ethereum account\n",
        "- `value`: the amount of ETH transferred (in Wei)\n",
        "- `data`: any data sent with the transaction in *binary*\n",
        "- `chainId`: the unique integer identifier for Ethereum-compatible blockchain networks\n",
        "\n",
        "### Gas & Fees\n",
        "\n",
        "![Ethereum gas fees](https://images.ctfassets.net/0idwgenf7ije/4s9bNHrnl6btZgfwC3Tgee/82c3fba7184d974c13a01c6f5fe71287/What_Are_Ethereum_Gas_Fees?fm=webp)\n",
        "\n",
        "Now we need to add the keys relating to the amount of gas and the gas price we want to pay for this transaction to our `txn_obj`. \n",
        "\n",
        "> Deeper dive: Learn all the nuances of [gas fees](https://ethereum.org/en/developers/docs/gas/)\n",
        "\n",
        "After the implementation of [EIP-1559](https://ethereum.org/en/developers/docs/gas/#eip-1559), the gas fee structure is more complex but essentially boils down to the following:\n",
        "\n",
        "- To transfer ETH between accounts, the transaction requires a fixed amount of 21,000 gas units. \n",
        "\n",
        "- The fee per gas unit is made up of two components:\n",
        "  1. A `base fee` which is set by the network and burned\n",
        "  2. A `priority fee` or tip given to the validator\n",
        "\n",
        "Let's say Jordan has to pay Taylor 1 ETH. In the transaction, the gas limit is 21,000 units and the base fee is 10 gwei (10^9 wei). Jordan includes a tip of 2 gwei.\n",
        "\n",
        "  `21,000 * (10 + 2) = 252,000 gwei or 0.000252 ETH.`\n",
        "\n",
        "When Jordan sends the money, 1.000252 ETH will be deducted from Jordan's account. Taylor will be credited 1.0000 ETH. Validator receives the tip of 0.000042 ETH. Base fee of 0.00021 ETH is burned.\n",
        "\n",
        "The nice thing is that there are methods to determine the gas values for you so that you **do not need to manually calculate them.**\n",
        "\n",
        "### Update the Transaction Object\n",
        "\n",
        "The additional keys we need to add to our `txn_obj` are:\n",
        "1. `gas` - in this simple ETH transfer case, that is 21,000 units but we can use the [`eth_estimateGas`](https://web3py.readthedocs.io/en/stable/web3.eth.html#web3.eth.Eth.estimate_gas) RPC method to estimate this for a given transaction object. \n",
        "\n",
        "The next two offer some 'finer tuning' based on 1) how quickly and 2) how costly we want our transaction to be processed. We can provide **either one of these or both** for full control:\n",
        "\n",
        "2. `maxPriorityFeePerGas` - this is the maximum 'tip' offered to the validator to process your transaction. We can use the [`eth_maxPriorityFeePerGas`](https://web3py.readthedocs.io/en/stable/web3.eth.html#web3.eth.Eth.max_priority_fee) RPC method to return a suggested for a max priority fee. \n",
        "\n",
        "3. `maxFeePerGas` - This is the overall maximum fee paid per gas unit and includes the tip but no guarantee on *when* your transaction will be processed. Essentially:\n",
        "\n",
        "  `maxFeePerGas = baseFeePerGas + maxPriorityFeePerGas`. \n",
        "\n",
        "Since we do not have an explicit method for the `maxFeePerGas`, we can manually determine this using the [`eth_getBlockByNumber`](https://web3py.readthedocs.io/en/stable/web3.eth.html#web3.eth.Eth.get_block) RPC method for the `'pending'` block and extract the `baseFeePerGas` value. "
      ]
    },
    {
      "cell_type": "code",
      "execution_count": 16,
      "metadata": {
        "id": "5A4hniEOLYVl"
      },
      "outputs": [],
      "source": [
        "estimated_gas = w3_testnet.eth.estimate_gas(txn_obj)"
      ]
    },
    {
      "cell_type": "code",
      "execution_count": 17,
      "metadata": {
        "id": "f9ixcCgARvnN"
      },
      "outputs": [],
      "source": [
        "max_priority_fee_per_gas = w3_testnet.eth.max_priority_fee"
      ]
    },
    {
      "cell_type": "code",
      "execution_count": 18,
      "metadata": {
        "id": "WqCSQSXrhjUT"
      },
      "outputs": [],
      "source": [
        "base_fee_per_gas = w3_testnet.eth.get_block(\"pending\").baseFeePerGas"
      ]
    },
    {
      "cell_type": "code",
      "execution_count": 19,
      "metadata": {
        "id": "ZaST_PeGSHGY"
      },
      "outputs": [],
      "source": [
        "max_fee_per_gas = base_fee_per_gas + max_priority_fee_per_gas"
      ]
    },
    {
      "cell_type": "code",
      "execution_count": 20,
      "metadata": {
        "id": "ZYNiS_sHhY6-"
      },
      "outputs": [],
      "source": [
        "txn_obj['gas'] = estimated_gas\n",
        "txn_obj['maxPriorityFeePerGas'] = max_priority_fee_per_gas\n",
        "txn_obj['maxFeePerGas'] = max_fee_per_gas"
      ]
    },
    {
      "cell_type": "code",
      "execution_count": 21,
      "metadata": {
        "colab": {
          "base_uri": "https://localhost:8080/"
        },
        "id": "-tZbDUc4Lrza",
        "outputId": "2e16205e-8c7c-4e45-9063-eeb0a08504b0"
      },
      "outputs": [
        {
          "data": {
            "text/plain": [
              "{'nonce': 0,\n",
              " 'to': '0xc43ee4634Aed3796971ccE43e64b696D4de4ca83',\n",
              " 'from': '0xc19880076743294C17172B5E1F0536E71F91d37B',\n",
              " 'value': 1000000000000000,\n",
              " 'data': b'',\n",
              " 'chainId': 11155111,\n",
              " 'gas': 21000,\n",
              " 'maxPriorityFeePerGas': 1000000000,\n",
              " 'maxFeePerGas': 1000000008}"
            ]
          },
          "execution_count": 21,
          "metadata": {},
          "output_type": "execute_result"
        }
      ],
      "source": [
        "txn_obj"
      ]
    },
    {
      "cell_type": "markdown",
      "metadata": {
        "id": "2RnNZXhPcKCa"
      },
      "source": [
        "Our transaction object is now ready to be signed. \n",
        "\n",
        "## Sign a Transaction\n",
        "\n",
        "To sign a transaction with a private key, we use the [`eth_signTransaction`](https://web3py.readthedocs.io/en/stable/web3.eth.html#web3.eth.Eth.sign_transaction) RPC method passing in both the `txn_obj` and the sender's `private_key`. "
      ]
    },
    {
      "cell_type": "code",
      "execution_count": 22,
      "metadata": {
        "colab": {
          "base_uri": "https://localhost:8080/"
        },
        "id": "u0eTfKEg_-kF",
        "outputId": "82f2334c-ccfe-4b26-c825-8a6d757e3b72"
      },
      "outputs": [
        {
          "data": {
            "text/plain": [
              "SignedTransaction(rawTransaction=HexBytes('0x02f87483aa36a780843b9aca00843b9aca0882520894c43ee4634aed3796971cce43e64b696d4de4ca8387038d7ea4c6800080c080a051facfad04c0fb126219a5dfaa845057c60f471108e74e334d43ede19fa1eaffa04bca358b14f50e123b64e5aa57a14c73439b805a48fc05b9792513eda5fceccf'), hash=HexBytes('0x3f3c71dc3a299ab2ec08aafe75b9ebb233b855b3a5f88c547779332cfff0dd3c'), r=37080485827504369446667761295860336576481817213886305603919394073863677668095, s=34280736293026234995478661892789721972336933163990473054671550351871733198031, v=0)"
            ]
          },
          "execution_count": 22,
          "metadata": {},
          "output_type": "execute_result"
        }
      ],
      "source": [
        "signed_txn = w3_testnet.eth.account.sign_transaction(txn_obj, private_key)\n",
        "signed_txn"
      ]
    },
    {
      "cell_type": "markdown",
      "metadata": {
        "id": "ayfqX9nJdUJU"
      },
      "source": [
        "## Send a Transaction\n",
        "\n",
        "The last step is to send the transaction and broadcast it to the network. We use the [`eth_sendRawTransaction`](https://web3py.readthedocs.io/en/stable/web3.eth.html#web3.eth.Eth.sign_transaction) RPC method passing in the `rawTransaction` value of the `signed_txn` object. If successful, the return value is the transaction hash (as a HexBytes object). "
      ]
    },
    {
      "cell_type": "code",
      "execution_count": 23,
      "metadata": {
        "colab": {
          "base_uri": "https://localhost:8080/"
        },
        "id": "92Z6Y_EvA13w",
        "outputId": "75b1d952-26d1-430d-b53e-158710a69d54"
      },
      "outputs": [
        {
          "data": {
            "text/plain": [
              "HexBytes('0x3f3c71dc3a299ab2ec08aafe75b9ebb233b855b3a5f88c547779332cfff0dd3c')"
            ]
          },
          "execution_count": 23,
          "metadata": {},
          "output_type": "execute_result"
        }
      ],
      "source": [
        "txn_hash = w3_testnet.eth.send_raw_transaction(signed_txn.rawTransaction)\n",
        "txn_hash"
      ]
    },
    {
      "attachments": {},
      "cell_type": "markdown",
      "metadata": {
        "id": "3L2g_lfBd7cB"
      },
      "source": [
        "We can now copy/paste the transaction hash in our Sepolia block explorer https://sepolia.etherscan.io/ and check our wallet to see that some test ETH from our wallet has indeed been removed. "
      ]
    },
    {
      "cell_type": "code",
      "execution_count": 24,
      "metadata": {
        "colab": {
          "base_uri": "https://localhost:8080/"
        },
        "id": "LNE0wbTlaKOf",
        "outputId": "d0f630a5-40c6-4344-d47f-01016a12f5b6"
      },
      "outputs": [
        {
          "data": {
            "text/plain": [
              "28472965999832000"
            ]
          },
          "execution_count": 24,
          "metadata": {},
          "output_type": "execute_result"
        }
      ],
      "source": [
        "w3_testnet.eth.get_balance(public_address)"
      ]
    },
    {
      "cell_type": "markdown",
      "metadata": {
        "id": "OqnTD3W8eLgS"
      },
      "source": [
        "## Summary\n",
        "\n",
        "In this Code Along, we covered the fundamentals of creating a transaction on a public blockchain to send some test ETH tokens between wallet addresses. The process to create, sign and send raw transactions can be used for simple ETH transfers to more complex smart contract interactions and function calls as we will explore in the next set of Code Alongs. "
      ]
    }
  ],
  "metadata": {
    "colab": {
      "collapsed_sections": [],
      "provenance": []
    },
    "kernelspec": {
      "display_name": "Python 3.8.2 64-bit",
      "language": "python",
      "name": "python3"
    },
    "language_info": {
      "codemirror_mode": {
        "name": "ipython",
        "version": 3
      },
      "file_extension": ".py",
      "mimetype": "text/x-python",
      "name": "python",
      "nbconvert_exporter": "python",
      "pygments_lexer": "ipython3",
      "version": "3.9.6"
    },
    "vscode": {
      "interpreter": {
        "hash": "31f2aee4e71d21fbe5cf8b01ff0e069b9275f58929596ceb00d14d90e3e16cd6"
      }
    }
  },
  "nbformat": 4,
  "nbformat_minor": 0
}
