{
  "cells": [
    {
      "cell_type": "markdown",
      "metadata": {
        "id": "Pkri9n-LvgfW"
      },
      "source": [
        "# Introduction to Creating Blockchain Transactions\n",
        "A Code Along to understand how to create basic blockchain transactions. We will use a publicly hosted blockchain node to access the Ethereum network and create and broadcast a simple ETH transfer transaction. \n",
        "\n",
        "**Author: Harish Raisinghani, DevRel @ Covalent**. https://twitter.com/harish_yvr\n",
        "\n",
        "## Web3.py Setup\n",
        "\n",
        "We will be using [Web3.py](https://web3py.readthedocs.io/en/stable/quickstart.html), a comprehensive Python library for interacting with the programmable [Ethereum](https://ethereum.org/) blockchain, in this Code Along. \n",
        "\n",
        "We install the library using `pip`:"
      ]
    },
    {
      "cell_type": "code",
      "execution_count": null,
      "metadata": {
        "id": "uPRU7dKYva9M"
      },
      "outputs": [],
      "source": [
        "pip install web3"
      ]
    },
    {
      "cell_type": "markdown",
      "metadata": {
        "id": "PmHf3zcJxHj5"
      },
      "source": [
        "## Connect to a Hosted Node Provider\n",
        "\n",
        "In order to write data to blockchains, you can either:\n",
        "\n",
        "1. Run your own node on that blockchain, download the entire ledger, execute the transactions and send data through your node. \n",
        "\n",
        "2. Use a hosted node provider who manage the infrastructure for you\n",
        "\n",
        "> Deeper dive: Set up your own Ethereum node following [this guide.](https://ethereum.org/en/developers/docs/nodes-and-clients/run-a-node/)\n",
        "\n",
        "Examples of hosted Ethereum node providers are listed here: https://ethereumnodes.com/ . This is just a small set but does cover many of the major providers. \n",
        "\n",
        "In this Code Along, we will use the [Pocket Network](https://pokt.network/\n",
        " ) hosted node provider which offers a comprehensive [list of public nodes](https://docs.pokt.network/use/public-rpc/). Note the URL for accessing the Ethereum Goerli testnet node: https://eth-goerli-rpc.gateway.pokt.network\n",
        "\n",
        "We are using a testnet because writing transactions to blockchains requires gas which you need to pay for using the blockchain's native token (e.g. ETH). To use a testnet, we can acquire the corresponding testnet tokens from a faucet for free. \n",
        "\n",
        " The following code configures our `web3.py` library to use the Pocket Network as our node provider on the Ethereum Goerli testnet and confirms if the node is connected to the testnet:"
      ]
    },
    {
      "cell_type": "code",
      "execution_count": 82,
      "metadata": {
        "colab": {
          "base_uri": "https://localhost:8080/"
        },
        "id": "TaxLOxFQv2Tx",
        "outputId": "60b57b78-4057-456b-f8ad-ea7e0a5cb45d"
      },
      "outputs": [
        {
          "data": {
            "text/plain": [
              "True"
            ]
          },
          "execution_count": 82,
          "metadata": {},
          "output_type": "execute_result"
        }
      ],
      "source": [
        "from web3 import Web3\n",
        "\n",
        "eth_goerli_provider = 'https://eth-goerli-rpc.gateway.pokt.network'\n",
        "\n",
        "w3_testnet = Web3(Web3.HTTPProvider(eth_goerli_provider))\n",
        "\n",
        "# Check that it is connected\n",
        "w3_testnet.isConnected()"
      ]
    },
    {
      "cell_type": "markdown",
      "metadata": {
        "id": "DMtLRKLE1oBo"
      },
      "source": [
        "And let us check the blockchain's chain ID and current block number and confirm it with the Ethereum Goerli block explorer: https://goerli.etherscan.io"
      ]
    },
    {
      "cell_type": "code",
      "execution_count": 83,
      "metadata": {
        "colab": {
          "base_uri": "https://localhost:8080/"
        },
        "id": "AOPzNu7-yfXg",
        "outputId": "89d7cc40-b357-414f-f195-51b6850810e9"
      },
      "outputs": [
        {
          "data": {
            "text/plain": [
              "5"
            ]
          },
          "execution_count": 83,
          "metadata": {},
          "output_type": "execute_result"
        }
      ],
      "source": [
        "w3_testnet.eth.chain_id"
      ]
    },
    {
      "cell_type": "code",
      "execution_count": 84,
      "metadata": {
        "colab": {
          "base_uri": "https://localhost:8080/"
        },
        "id": "XzcisrqD1vre",
        "outputId": "ec495c00-e39e-4025-964c-d1c37f78f110"
      },
      "outputs": [
        {
          "data": {
            "text/plain": [
              "7635987"
            ]
          },
          "execution_count": 84,
          "metadata": {},
          "output_type": "execute_result"
        }
      ],
      "source": [
        "w3_testnet.eth.get_block_number()"
      ]
    },
    {
      "cell_type": "markdown",
      "metadata": {
        "id": "mZYD8SJy2UwV"
      },
      "source": [
        "Now that we are connected to the Goerli testnet, we need to do the following to get set up in order to write transactions to the blockchain:\n",
        "\n",
        "1. Have a wallet on the Goerli testnet\n",
        "2. Have some test ETH tokens in our wallet on the Goerli testnet\n",
        "\n",
        "## Wallet Setup\n",
        "\n",
        "We can repurpose the code from the previous Code Along to create our wallet.\n",
        "\n",
        "**NOTE: EVERYTHING WE DO HERE IS FOR DEMO PURPOSES SO PLEASE DO NOT USE ANY WALLETS CREATED HERE AS YOUR PRODUCTION WALLET!**"
      ]
    },
    {
      "cell_type": "code",
      "execution_count": 85,
      "metadata": {
        "id": "yNWpw0ML11m7"
      },
      "outputs": [],
      "source": [
        "import secrets\n",
        "from eth_account import Account\n",
        "\n",
        "# 1. Create our 32 bytes random number. Each byte converts to two hex digits\n",
        "priv = secrets.token_hex(32)\n",
        "\n",
        "# 2. Prefix the '0x' hexadecimal identifier\n",
        "private_key = \"0x\" + priv\n",
        "\n",
        "# 3. Generate an account object that includes the public key and other useful methods\n",
        "account = Account.from_key(private_key)\n",
        "\n",
        "# Extract the public key\n",
        "public_address = account.address"
      ]
    },
    {
      "cell_type": "code",
      "execution_count": 86,
      "metadata": {
        "colab": {
          "base_uri": "https://localhost:8080/"
        },
        "id": "Ue0crRn84ZOV",
        "outputId": "2497408a-e1f1-429c-c4f2-66fe92f70f1d"
      },
      "outputs": [
        {
          "name": "stdout",
          "output_type": "stream",
          "text": [
            "Wallet address is: 0x3922C053bC7885B20F7550517E47BfCc692120Cc\n"
          ]
        }
      ],
      "source": [
        "# Print the public key\n",
        "print(\"Wallet address is:\", public_address)"
      ]
    },
    {
      "cell_type": "markdown",
      "metadata": {
        "id": "rhLGIdSi4Pyc"
      },
      "source": [
        "Next, use a faucet such as https://goerli-faucet.pk910.de/ to 'drip' yourself some test ETH tokens on Goerli. Note for this particular faucet, you need to enter your wallet address and let the faucet run for a few minutes to accumulate the minimum amount of test tokens (0.05 Goerli ETH). \n",
        "\n",
        "Verify that you now indeed have some test tokens on Goerli:"
      ]
    },
    {
      "cell_type": "code",
      "execution_count": 179,
      "metadata": {
        "colab": {
          "base_uri": "https://localhost:8080/"
        },
        "id": "DwnGI-Ij4GIG",
        "outputId": "0e501bb7-3363-40df-a444-93f5ce6cbf41"
      },
      "outputs": [
        {
          "data": {
            "text/plain": [
              "142724999908650000"
            ]
          },
          "execution_count": 179,
          "metadata": {},
          "output_type": "execute_result"
        }
      ],
      "source": [
        "w3_testnet.eth.get_balance(public_address)"
      ]
    },
    {
      "cell_type": "markdown",
      "metadata": {
        "id": "OOXSFfSc6s43"
      },
      "source": [
        "Now we can create our first transaction!\n",
        "\n",
        "The process of creating a transaction involves using the above components to:\n",
        "1. Create the transaction object\n",
        "2. Sign the transaction with your private key\n",
        "3. Send the transaction using the provided node\n",
        "\n",
        "## Create a Transaction\n",
        "\n",
        "The following is a very basic transaction object to send 0.001 Goerli ETH to wallet `0xc43ee4634Aed3796971ccE43e64b696D4de4ca83`:\n",
        "\n"
      ]
    },
    {
      "cell_type": "code",
      "execution_count": 178,
      "metadata": {
        "id": "OwLElEhJ_OcZ"
      },
      "outputs": [],
      "source": [
        "txn_obj = {\n",
        "    'nonce': w3_testnet.eth.get_transaction_count(public_address),\n",
        "    'to': '0xc43ee4634Aed3796971ccE43e64b696D4de4ca83',\n",
        "    'from': public_address,\n",
        "    'value': w3_testnet.toWei(0.01, 'ether'),\n",
        "    'data': b'',\n",
        "    'chainId': w3_testnet.eth.chain_id\n",
        "}"
      ]
    },
    {
      "cell_type": "markdown",
      "metadata": {
        "id": "TocaXD2OHZ7a"
      },
      "source": [
        "where we have used the following keys:\n",
        "\n",
        "- `nonce`: a sequence number issued by the sending Ethereum account indicating the number of previous transactions to prevent message replay\n",
        "- `from`: the sending Ethereum account\n",
        "- `to`: the receiving Ethereum account\n",
        "- `value`: the amount of ETH transferred (in Wei)\n",
        "- `data`: any data sent with the transaction in *binary*\n",
        "- `chainId`: the unique integer identifier for Ethereum-compatible blockchain networks\n",
        "\n",
        "### Gas & Fees\n",
        "\n",
        "![Ethereum gas fees](https://images.ctfassets.net/0idwgenf7ije/4s9bNHrnl6btZgfwC3Tgee/82c3fba7184d974c13a01c6f5fe71287/What_Are_Ethereum_Gas_Fees?fm=webp)\n",
        "\n",
        "Now we need to add the keys relating to the amount of gas and the gas price we want to pay for this transaction to our `txn_obj`. \n",
        "\n",
        "> Deeper dive: Learn all the nuances of [gas fees](https://ethereum.org/en/developers/docs/gas/)\n",
        "\n",
        "After the implementation of [EIP-1559](https://ethereum.org/en/developers/docs/gas/#eip-1559), the gas fee structure is more complex but essentially boils down to the following:\n",
        "\n",
        "- To transfer ETH between accounts, the transaction requires a fixed amount of 21,000 gas units. \n",
        "\n",
        "- The fee per gas unit is made up of two components:\n",
        "  1. A `base fee` which is set by the network and burned\n",
        "  2. A `priority fee` or tip given to the validator\n",
        "\n",
        "Let's say Jordan has to pay Taylor 1 ETH. In the transaction, the gas limit is 21,000 units and the base fee is 10 gwei (10^9 wei). Jordan includes a tip of 2 gwei.\n",
        "\n",
        "  `21,000 * (10 + 2) = 252,000 gwei or 0.000252 ETH.`\n",
        "\n",
        "When Jordan sends the money, 1.000252 ETH will be deducted from Jordan's account. Taylor will be credited 1.0000 ETH. Validator receives the tip of 0.000042 ETH. Base fee of 0.00021 ETH is burned.\n",
        "\n",
        "The nice thing is that there are methods to determine the gas values for you so that you **do not need to manually calculate them.**\n",
        "\n",
        "### Update the Transaction Object\n",
        "\n",
        "The additional keys we need to add to our `txn_obj` are:\n",
        "1. `gas` - in this simple ETH transfer case, that is 21,000 units but we can use the [`eth_estimateGas`](https://web3py.readthedocs.io/en/stable/web3.eth.html#web3.eth.Eth.estimate_gas) RPC method to estimate this for a given transaction object. \n",
        "\n",
        "The next two offer some 'finer tuning' based on 1) how quickly and 2) how costly we want our transaction to be processed. We can provide **either one of these or both** for full control:\n",
        "\n",
        "2. `maxPriorityFeePerGas` - this is the maximum 'tip' offered to the validator to process your transaction. We can use the [`eth_maxPriorityFeePerGas`](https://web3py.readthedocs.io/en/stable/web3.eth.html#web3.eth.Eth.max_priority_fee) RPC method to return a suggested for a max priority fee. \n",
        "\n",
        "3. `maxFeePerGas` - This is the overall maximum fee paid per gas unit and includes the tip but no guarantee on *when* your transaction will be processed. Essentially:\n",
        "\n",
        "  `maxFeePerGas = baseFeePerGas + maxPriorityFeePerGas`. \n",
        "\n",
        "Since we do not have an explicit method for the `maxFeePerGas`, we can manually determine this using the [`eth_getBlockByNumber`](https://web3py.readthedocs.io/en/stable/web3.eth.html#web3.eth.Eth.get_block) RPC method for the `'pending'` block and extract the `baseFeePerGas` value. "
      ]
    },
    {
      "cell_type": "code",
      "execution_count": 180,
      "metadata": {
        "id": "5A4hniEOLYVl"
      },
      "outputs": [],
      "source": [
        "estimated_gas = w3_testnet.eth.estimate_gas(txn_obj)"
      ]
    },
    {
      "cell_type": "code",
      "execution_count": 181,
      "metadata": {
        "id": "f9ixcCgARvnN"
      },
      "outputs": [],
      "source": [
        "max_priority_fee_per_gas = w3_testnet.eth.max_priority_fee"
      ]
    },
    {
      "cell_type": "code",
      "execution_count": 182,
      "metadata": {
        "id": "WqCSQSXrhjUT"
      },
      "outputs": [],
      "source": [
        "base_fee_per_gas = w3_testnet.eth.get_block(\"pending\").baseFeePerGas"
      ]
    },
    {
      "cell_type": "code",
      "execution_count": 183,
      "metadata": {
        "id": "ZaST_PeGSHGY"
      },
      "outputs": [],
      "source": [
        "max_fee_per_gas = base_fee_per_gas + max_priority_fee_per_gas"
      ]
    },
    {
      "cell_type": "code",
      "execution_count": 184,
      "metadata": {
        "id": "ZYNiS_sHhY6-"
      },
      "outputs": [],
      "source": [
        "txn_obj['gas'] = estimated_gas\n",
        "txn_obj['maxPriorityFeePerGas'] = max_priority_fee_per_gas\n",
        "txn_obj['maxFeePerGas'] = max_fee_per_gas"
      ]
    },
    {
      "cell_type": "code",
      "execution_count": 185,
      "metadata": {
        "colab": {
          "base_uri": "https://localhost:8080/"
        },
        "id": "-tZbDUc4Lrza",
        "outputId": "2e16205e-8c7c-4e45-9063-eeb0a08504b0"
      },
      "outputs": [
        {
          "data": {
            "text/plain": [
              "{'nonce': 3,\n",
              " 'to': '0xc43ee4634Aed3796971ccE43e64b696D4de4ca83',\n",
              " 'from': '0x3922C053bC7885B20F7550517E47BfCc692120Cc',\n",
              " 'value': 10000000000000000,\n",
              " 'data': b'',\n",
              " 'chainId': 5,\n",
              " 'gas': 21000,\n",
              " 'maxPriorityFeePerGas': 1443,\n",
              " 'maxFeePerGas': 1450}"
            ]
          },
          "execution_count": 185,
          "metadata": {},
          "output_type": "execute_result"
        }
      ],
      "source": [
        "txn_obj"
      ]
    },
    {
      "cell_type": "markdown",
      "metadata": {
        "id": "2RnNZXhPcKCa"
      },
      "source": [
        "Our transaction object is now ready to be signed. \n",
        "\n",
        "## Sign a Transaction\n",
        "\n",
        "To sign a transaction with a private key, we use the [`eth_signTransaction`](https://web3py.readthedocs.io/en/stable/web3.eth.html#web3.eth.Eth.sign_transaction) RPC method passing in both the `txn_obj` and the sender's `private_key`. "
      ]
    },
    {
      "cell_type": "code",
      "execution_count": 186,
      "metadata": {
        "colab": {
          "base_uri": "https://localhost:8080/"
        },
        "id": "u0eTfKEg_-kF",
        "outputId": "82f2334c-ccfe-4b26-c825-8a6d757e3b72"
      },
      "outputs": [
        {
          "data": {
            "text/plain": [
              "SignedTransaction(rawTransaction=HexBytes('0x02f86d05038205a38205aa82520894c43ee4634aed3796971cce43e64b696d4de4ca83872386f26fc1000080c001a0dd7ac2982a5c4709c8544d9ca12d6d3076056e3733095bb969cdf589e7c79664a0186a107627561201eb165d8111894cf38a96f533e5246fc0f723e0cd57388561'), hash=HexBytes('0x53dd1b61fd0c12e2d49acac4d52db9b3eab39a0b29b136b43dec96814c2b6adf'), r=100178037919969082503890720786612462101050398138986304775701672550768545601124, s=11042907768222744092674064113870833103920562337777248885076738598081211696481, v=1)"
            ]
          },
          "execution_count": 186,
          "metadata": {},
          "output_type": "execute_result"
        }
      ],
      "source": [
        "signed_txn = w3_testnet.eth.account.sign_transaction(txn_obj, private_key)\n",
        "signed_txn"
      ]
    },
    {
      "cell_type": "markdown",
      "metadata": {
        "id": "ayfqX9nJdUJU"
      },
      "source": [
        "## Send a Transaction\n",
        "\n",
        "The last step is to send the transaction and broadcast it to the network. We use the [`eth_sendRawTransaction`](https://web3py.readthedocs.io/en/stable/web3.eth.html#web3.eth.Eth.sign_transaction) RPC method passing in the `rawTransaction` value of the `signed_txn` object. If successful, the return value is the transaction hash (as a HexBytes object). "
      ]
    },
    {
      "cell_type": "code",
      "execution_count": 187,
      "metadata": {
        "colab": {
          "base_uri": "https://localhost:8080/"
        },
        "id": "92Z6Y_EvA13w",
        "outputId": "75b1d952-26d1-430d-b53e-158710a69d54"
      },
      "outputs": [
        {
          "data": {
            "text/plain": [
              "HexBytes('0x53dd1b61fd0c12e2d49acac4d52db9b3eab39a0b29b136b43dec96814c2b6adf')"
            ]
          },
          "execution_count": 187,
          "metadata": {},
          "output_type": "execute_result"
        }
      ],
      "source": [
        "txn_hash = w3_testnet.eth.send_raw_transaction(signed_txn.rawTransaction)\n",
        "txn_hash"
      ]
    },
    {
      "cell_type": "markdown",
      "metadata": {
        "id": "3L2g_lfBd7cB"
      },
      "source": [
        "We can now copy/paste the transaction hash in our Goerli block explorer https://goerli.etherscan.io and check our wallet to see that some test ETH from our wallet has indeed been removed. "
      ]
    },
    {
      "cell_type": "code",
      "execution_count": 188,
      "metadata": {
        "colab": {
          "base_uri": "https://localhost:8080/"
        },
        "id": "LNE0wbTlaKOf",
        "outputId": "d0f630a5-40c6-4344-d47f-01016a12f5b6"
      },
      "outputs": [
        {
          "data": {
            "text/plain": [
              "142724999908650000"
            ]
          },
          "execution_count": 188,
          "metadata": {},
          "output_type": "execute_result"
        }
      ],
      "source": [
        "w3_testnet.eth.get_balance(public_address)"
      ]
    },
    {
      "cell_type": "markdown",
      "metadata": {
        "id": "OqnTD3W8eLgS"
      },
      "source": [
        "## Summary\n",
        "\n",
        "In this Code Along, we covered the fundamentals of creating a transaction on a public blockchain to send some test ETH tokens between wallet addresses. The process to create, sign and send raw transactions can be used for simple ETH transfers to more complex smart contract interactions and function calls as we will explore in the next set of Code Alongs. "
      ]
    }
  ],
  "metadata": {
    "colab": {
      "collapsed_sections": [],
      "provenance": []
    },
    "kernelspec": {
      "display_name": "Python 3.8.2 64-bit",
      "language": "python",
      "name": "python3"
    },
    "language_info": {
      "name": "python",
      "version": "3.8.2"
    },
    "vscode": {
      "interpreter": {
        "hash": "31f2aee4e71d21fbe5cf8b01ff0e069b9275f58929596ceb00d14d90e3e16cd6"
      }
    }
  },
  "nbformat": 4,
  "nbformat_minor": 0
}
