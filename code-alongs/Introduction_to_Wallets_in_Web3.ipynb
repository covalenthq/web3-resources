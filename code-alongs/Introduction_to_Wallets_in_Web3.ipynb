{
  "cells": [
    {
      "cell_type": "markdown",
      "metadata": {
        "id": "ClorcDVqNSDF"
      },
      "source": [
        "# Introduction to Wallets in Web3\n",
        "A Code Along to understand the concept of a **wallet** in web3. We will create a wallet using a couple different Python tools and explore different wallet applications in this space. \n",
        "\n",
        "**Author: Harish Raisinghani, DevRel @ Covalent**. https://twitter.com/harish_yvr\n",
        "\n",
        "## Setup\n",
        "\n",
        "We will be using [Web3.py](https://web3py.readthedocs.io/en/stable/quickstart.html), a comprehensive Python library for interacting with the programmable [Ethereum](https://ethereum.org/) blockchain, in this Code Along. \n",
        "\n",
        "\n",
        "\n",
        "\n",
        "\n",
        "\n",
        "\n",
        "\n"
      ]
    },
    {
      "cell_type": "code",
      "execution_count": null,
      "metadata": {
        "id": "dK8rj_bMejX1"
      },
      "outputs": [],
      "source": [
        "pip install web3"
      ]
    },
    {
      "cell_type": "markdown",
      "metadata": {
        "id": "GKcWztAuY-qC"
      },
      "source": [
        "## What is a Wallet in Web3?\n",
        "Wallets are fundamental in Web3 as they serve as a digital identity to access applications. Just like a web browser is the *client* used to access a webpage, wallets are *clients* which enable you to access blockchain-powered applications.\n",
        "\n",
        "![Web 2 vs Web3 clients](https://miro.medium.com/max/1400/0*qtAW0sX8jwsj7sOY)\n",
        "\n",
        "Moreover, wallets provide *access* to digital assets such as fungible and non-fungible tokens (NFTs) by allowing the wallet owner to sign transactions.\n",
        "\n",
        "![Wallet keys](https://images.ctfassets.net/0idwgenf7ije/6nHv8TLpKDInxwu4z9Zmsb/6db5b1cf5eac1c7db05e843c95f217fe/Gemini-Security_Public_and_Private_keys_What_are_Public_and_Private_keys.png?fm=webp)\n",
        "\n",
        "A key point to remember is that a wallet does not actually contain any crypto or tokens. \n",
        "\n",
        "At its core, a wallet consists of three components:\n",
        "1. **A private key** (which you should always keep private) which in web3 is commonly a 256 character binary number (~`10^77`). The private key is an *astronomically* large number for good reason and while the public key is derived from it, the reverse is practically impossible due to one-way cryptography (https://www.gemini.com/cryptopedia/public-private-keys-cryptography)\n",
        "\n",
        "2. **A public key** which serves as a address to send and receive transactions. Think of a public key as a publicly available bank account that someone can send funds to. The public key is derived from a private key.\n",
        "\n",
        "3. **A mnenomic (seed phrase)** of usually 12 or 24 words  that can uniquey recreate the private key. The mnemonic serves as a back up to recover your wallet. **It should also always be kept private**. \n",
        "\n",
        "> Deeper dive: See the standard used for generating these mnenomics called the [BIP-39](https://www.blockplate.com/blogs/blockplate/list-of-bip39-wallets-mnemonic-seed) standard. \n",
        "\n",
        "\n",
        "**NOTE: EVERYTHING WE DO HERE IS FOR DEMO PURPOSES SO PLEASE DO NOT USE ANY WALLETS CREATED HERE AS YOUR PRODUCTION WALLET!**\n",
        "\n",
        "&nbsp;\n",
        "## Create a Wallet from First Principles\n",
        "Since the public key and mnenomic are derived from the private key, and a private key is just a random 256 bit number, we can just create a private key from scratch using a Python module like [`secrets`](https://docs.python.org/3/library/secrets.html) which generates secure random numbers for managing secrets. \n",
        "\n",
        "Additionally, we are going to use the [`eth_account`](https://eth-account.readthedocs.io/en/stable/eth_account.html#module-eth_account.account) Python library (which was automatically installed with `Web3.py`) to help us derive the public key and mnemonic from the private key. \n",
        "\n",
        "Our process looks something like the following:\n",
        "\n",
        "1. Use the `secrets` module and specifically the [`token_hex()`](https://docs.python.org/3/library/secrets.html#secrets.token_hex) method to generate our private key. This method \"returns a random text string, in hexadecimal. The string has nbytes random bytes, each byte converted to two hex digits.\"\n",
        "\n",
        "> Q) 256 bits is how many bytes?\n",
        "\n",
        "\n",
        "2. Prefix a `0x` string in front of our random number to indicate it is a hexadecimal. \n",
        "\n",
        "3. Use the [`Account.from_key()`](https://eth-account.readthedocs.io/en/stable/eth_account.html#eth_account.account.Account.from_key) method to generate a convenient account object. \n",
        "\n",
        "### Method 1:\n",
        "Let's run the following sets of code. First we import the modules:"
      ]
    },
    {
      "cell_type": "code",
      "execution_count": null,
      "metadata": {},
      "outputs": [],
      "source": [
        "import secrets\n",
        "from eth_account import Account"
      ]
    },
    {
      "cell_type": "markdown",
      "metadata": {},
      "source": [
        "Next, we create our private and public keys"
      ]
    },
    {
      "cell_type": "code",
      "execution_count": null,
      "metadata": {
        "id": "EPKJOSbK3bhu"
      },
      "outputs": [],
      "source": [
        "\n",
        "\n",
        "# 1. Create our 32 bytes random number. Each byte converts to two hex digits\n",
        "priv = secrets.token_hex(32)\n",
        "\n",
        "# 2. Prefix the '0x' hexadecimal identifier\n",
        "private_key = \"0x\" + priv\n",
        "\n",
        "# 3. Generate an account object that includes the public key and other useful methods\n",
        "account = Account.from_key(private_key)\n",
        "\n",
        "# Extract the public key\n",
        "public_address = account.address\n",
        "\n",
        "# Print the public and private keys\n",
        "print(\"Wallet address is:\", account.address)\n",
        "print(\"Private key that should never be shared publicly is:\", account.privateKey.hex())"
      ]
    },
    {
      "attachments": {},
      "cell_type": "markdown",
      "metadata": {
        "id": "I6LlwUAyEbUW"
      },
      "source": [
        "That's essentially it for creating Ethereum compatible wallets!\n",
        "\n",
        "&nbsp;\n",
        "## Wallet generators\n",
        "Have a look at these sample wallet generator tools:\n",
        "\n",
        "- https://vanity-eth.tk/\n",
        "- https://cointool.app/createWallet/eth\n",
        "\n",
        "&nbsp;\n",
        "## Method 2:\n",
        "The `Account` module also offers the ability to create a private key and related mnemomic using the [`create_with_mnenomic()`](https://eth-account.readthedocs.io/en/stable/eth_account.html#eth_account.account.Account.create_with_mnemonic) method. Some of the key parameters that can be passed with this method is:\n",
        "- passphrase (str) – Extra passphrase to encrypt the seed phrase\n",
        "- num_words (int) – Number of words to use with seed phrase. Default is 12 words. Must be one of [12, 15, 18, 21, 24].\n",
        "- language (str) – Language to use for BIP39 mnemonic seed phrase."
      ]
    },
    {
      "cell_type": "code",
      "execution_count": null,
      "metadata": {
        "colab": {
          "base_uri": "https://localhost:8080/"
        },
        "id": "4CmKRxQFs7sJ",
        "outputId": "0b1b8d57-ac12-422f-fa02-290b9e763314"
      },
      "outputs": [
        {
          "name": "stdout",
          "output_type": "stream",
          "text": [
            "My wallet address: 0xfa9A134f1D906453EEF1611eb5C7d80f777A9905\n",
            "My wallet mnemonic that I should never share: \"piano finger various art beach depend share enemy fly demise wild nasty\"\n"
          ]
        }
      ],
      "source": [
        "Account.enable_unaudited_hdwallet_features()\n",
        "acct, mnemonic = Account.create_with_mnemonic()\n",
        "\n",
        "my_wallet_address = acct.address\n",
        "my_private_key = acct.privateKey\n",
        "\n",
        "print(f'My wallet address: {my_wallet_address}')\n",
        "print(f'My wallet mnemonic that I should never share: \"{mnemonic}\"')"
      ]
    },
    {
      "cell_type": "markdown",
      "metadata": {},
      "source": []
    },
    {
      "cell_type": "markdown",
      "metadata": {
        "id": "uktyxAEjGieQ"
      },
      "source": [
        "## Import your keys into a wallet app\n",
        "\n",
        "Now that we have a pair of public and private keys and an mnemonic, we can use existing wallet applications by simply importing our mnemonic.\n",
        "\n",
        "Wallet applications are broken down into a few different categories:\n",
        "\n",
        "![Types of wallets](https://101blockchains.com/wp-content/uploads/2021/10/Types-of-Crypto-Wallets-2.png)\n",
        "\n",
        "> Deeper dive on wallet types: https://101blockchains.com/types-of-crypto-wallets/\n",
        "\n",
        "Regardless of the type of wallet you use and where it is hosted, remember the phrase: ***Not your keys, not your crypto!***\n",
        "\n",
        "Arguably the most popular web wallet is [MetaMask](https://metamask.io/) which is now also offered as a mobile wallet for iOS and Android. \n",
        "\n",
        "![MetaMask](https://images.ctfassets.net/9sy2a0egs6zh/77mVisJcj8sMquYlW3iq73/1d47648a1511e1e79b5b58bba0bebf80/home_featured.png)\n",
        "\n",
        "We will use our mnemonic to set up our newly created wallet with the MetaMask browser wallet. \n",
        "\n",
        "**NOTE: IF YOU ALREADY HAVE METAMASK INSTALLED, MAKE SURE TO STORE YOUR EXISTING MNEMONIC SOMEWHERE SECURE BEFORE MOVING TO THE NEXT STEP OTHERWISE YOU MIGHT LOSE ACCESS TO YOUR WALLET!**\n",
        "\n"
      ]
    },
    {
      "attachments": {},
      "cell_type": "markdown",
      "metadata": {
        "id": "q9JQ9pbFJU1t"
      },
      "source": [
        "## MetaMask Wallet Setup Steps\n",
        "\n",
        "1. Proceed to https://metamask.io/download/ to install the MetaMask extension for your browser. If you already have MetaMask installed, log out and then select *Forgot password*. \n",
        "\n",
        "2. Once installed, select the `Import wallet` option.\n",
        "\n",
        "3. You will then be prompted with page to reset your wallet using your Secret Recovery Phrase. Paste your entire mnemonic from above into the first field. \n",
        "\n",
        "![Reset MetaMask Wallet{caption=Figure 2: MetaMask reset wallet}](https://metamask.zendesk.com/hc/article_attachments/5998778572315/SRP_entry.png)\n",
        "\n",
        "4. Set you password and you should now have imported your wallet generated above into your MetaMask!\n",
        "\n",
        "5. Now that you have connected your wallet, select an Ethereum testnet such as Goerli from the network dropdown menu. You might need to toggle the *show/hide test networks* to see all the testnets.  \n",
        "\n",
        "5. Now go to a testnet faucet such as https://goerli-faucet.pk910.de/ and drip yourself some test ETH tokens (the faucet here is for the Ethereum Goerli testnet).\n",
        "\n",
        "6. Send some of your test tokens to: `0xFeE9813A4B268793D4Edc6DF11A760C3c07a2c98`\n",
        "\n",
        "> Q) How much in fees did you have to pay? What is the gas fee?\n",
        "\n",
        "## Explore other wallets in Web3\n",
        "- [Rainbow Wallet](https://rainbow.me/)\n",
        "- [Coinbase](https://www.coinbase.com/wallet)\n",
        "- [MEW](https://www.myetherwallet.com/)\n",
        "- [Torus](https://tor.us/)\n",
        "\n",
        "What other wallets do you find interesting and what features do they offer?\n",
        "\n",
        "## Summary\n",
        "In this Code Along, we:\n",
        "- Went through the fundamentals of wallets in web3 and how to create one from scratch\n",
        "- Learned about the different types of wallets in web3\n",
        "- Learned how to configure a wallet app like MetaMask\n",
        "- Used a faucet to drip some test tokens into a wallet\n",
        "- Sent some of the test tokens to another wallet\n",
        "\n",
        "In the next activity, we learn how to access some basic blockchain data. \n",
        "\n"
      ]
    }
  ],
  "metadata": {
    "colab": {
      "collapsed_sections": [],
      "name": "Introduction to Wallets in Web3.ipynb",
      "provenance": []
    },
    "kernelspec": {
      "display_name": "Python 3.8.2 64-bit",
      "language": "python",
      "name": "python3"
    },
    "language_info": {
      "name": "python",
      "version": "3.8.2"
    },
    "vscode": {
      "interpreter": {
        "hash": "31f2aee4e71d21fbe5cf8b01ff0e069b9275f58929596ceb00d14d90e3e16cd6"
      }
    }
  },
  "nbformat": 4,
  "nbformat_minor": 0
}
